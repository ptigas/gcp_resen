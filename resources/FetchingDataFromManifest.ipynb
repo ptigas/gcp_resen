{
 "cells": [
  {
   "cell_type": "markdown",
   "metadata": {},
   "source": [
    "### Using the FetchData package"
   ]
  },
  {
   "cell_type": "markdown",
   "metadata": {},
   "source": [
    "This notebook shows you how to use the FetchData python package. This package is used to fetch data from a json manifest file obtained using the inGeo data browser.\n",
    "\n",
    "The DataFetcher requires 2 things:\n",
    "\n",
    "1) An archive directory where you want the data to be downloaded to. The DataFetcher will automatically sort the data in to directories names after the appropriate instruments.\n",
    "\n",
    "2) An inGeo data broswer manifest file\n",
    "\n",
    "The first step is to import the tool:"
   ]
  },
  {
   "cell_type": "code",
   "execution_count": 1,
   "metadata": {},
   "outputs": [],
   "source": [
    "import FetchData"
   ]
  },
  {
   "cell_type": "markdown",
   "metadata": {},
   "source": [
    "Next, we'll initialize a DataFetcher object"
   ]
  },
  {
   "cell_type": "code",
   "execution_count": 2,
   "metadata": {},
   "outputs": [
    {
     "name": "stdout",
     "output_type": "stream",
     "text": [
      "Successfully loaded manifest\n",
      "-------------------------------------------------------\n",
      "Manifest creation date:  20:48:47 UT on 30 Nov 2017\n",
      "Manifest Data Available\n",
      "    Number of All-Sky Imagers: 2\n",
      "    AMIE: True\n",
      "    SuperDARN: True\n",
      "    SuperMAG: True\n",
      "    Start time:  22:32:00 UT on 16 Oct 2016\n",
      "      End time:  22:32:00 UT on 17 Oct 2016\n",
      "-------------------------------------------------------\n"
     ]
    }
   ],
   "source": [
    "fetcher = FetchData.DataFetcher('test_manifest.json','/path/to/archive')"
   ]
  },
  {
   "cell_type": "markdown",
   "metadata": {},
   "source": [
    "As you can see, the DataFetcher tells us some information about the manifest file. Looks like we'll be fetching 1 day worth of data.\n",
    "\n",
    "To do that, we just tell the fetcher to download:"
   ]
  },
  {
   "cell_type": "code",
   "execution_count": 3,
   "metadata": {
    "scrolled": true
   },
   "outputs": [
    {
     "name": "stdout",
     "output_type": "stream",
     "text": [
      "Fetching data for all-sky imagers...\n",
      "    Downloading 109 files for: CRFS\n",
      "    Successfully downloaded: C035950A.291\n",
      "    Successfully downloaded: C040521A.291\n",
      "    Successfully downloaded: C041052A.291\n",
      "    Successfully downloaded: C041623A.291\n",
      "    Successfully downloaded: C042154A.291\n",
      "    Successfully downloaded: C042725A.291\n",
      "    Successfully downloaded: C043256A.291\n",
      "    Successfully downloaded: C043828A.291\n",
      "    Successfully downloaded: C044359A.291\n",
      "    Successfully downloaded: C044930A.291\n",
      "    Successfully downloaded: C045501A.291\n",
      "    Successfully downloaded: C050032A.291\n",
      "    Successfully downloaded: C050603A.291\n",
      "    Successfully downloaded: C051134A.291\n",
      "    Successfully downloaded: C051705A.291\n",
      "    Successfully downloaded: C052236A.291\n",
      "    Successfully downloaded: C052807A.291\n",
      "    Successfully downloaded: C053338A.291\n",
      "    Successfully downloaded: C053909A.291\n",
      "    Successfully downloaded: C054441A.291\n",
      "    Successfully downloaded: C055012A.291\n",
      "    Successfully downloaded: C055543A.291\n",
      "    Successfully downloaded: C060114A.291\n",
      "    Successfully downloaded: C060645A.291\n",
      "    Successfully downloaded: C061216A.291\n",
      "    Successfully downloaded: C061747A.291\n",
      "    Successfully downloaded: C062318A.291\n",
      "    Successfully downloaded: C062849A.291\n",
      "    Successfully downloaded: C063420A.291\n",
      "    Successfully downloaded: C063951A.291\n",
      "    Successfully downloaded: C064522A.291\n",
      "    Successfully downloaded: C065053A.291\n",
      "    Successfully downloaded: C065624A.291\n",
      "    Successfully downloaded: C070156A.291\n",
      "    Successfully downloaded: C070727A.291\n",
      "    Successfully downloaded: C071258A.291\n",
      "    Successfully downloaded: C071829A.291\n",
      "    Successfully downloaded: C072400A.291\n",
      "    Successfully downloaded: C072931A.291\n",
      "    Successfully downloaded: C073502A.291\n",
      "    Successfully downloaded: C074033A.291\n",
      "    Successfully downloaded: C074604A.291\n",
      "    Successfully downloaded: C075135A.291\n",
      "    Successfully downloaded: C075706A.291\n",
      "    Successfully downloaded: C080237A.291\n",
      "    Successfully downloaded: C080808A.291\n",
      "    Successfully downloaded: C081340A.291\n",
      "    Successfully downloaded: C081911A.291\n",
      "    Successfully downloaded: C082442A.291\n",
      "    Successfully downloaded: C083013A.291\n",
      "    Successfully downloaded: C083544A.291\n",
      "    Successfully downloaded: C084115A.291\n",
      "    Successfully downloaded: C084646A.291\n",
      "    Successfully downloaded: C085217A.291\n",
      "    Successfully downloaded: C085748A.291\n",
      "    Successfully downloaded: C090319A.291\n",
      "    Successfully downloaded: C090850A.291\n",
      "    Successfully downloaded: C091421A.291\n",
      "    Successfully downloaded: C091953A.291\n",
      "    Successfully downloaded: C092524A.291\n",
      "    Successfully downloaded: C093055A.291\n",
      "    Successfully downloaded: C093626A.291\n",
      "    Successfully downloaded: C094157A.291\n",
      "    Successfully downloaded: C094728A.291\n",
      "    Successfully downloaded: C095259A.291\n",
      "    Successfully downloaded: C095830A.291\n",
      "    Successfully downloaded: C100401A.291\n",
      "    Successfully downloaded: C100932A.291\n",
      "    Successfully downloaded: C101503A.291\n",
      "    Successfully downloaded: C102034A.291\n",
      "    Successfully downloaded: C102605A.291\n",
      "    Successfully downloaded: C103136A.291\n",
      "    Successfully downloaded: C103708A.291\n",
      "    Successfully downloaded: C104239A.291\n",
      "    Successfully downloaded: C104810A.291\n",
      "    Successfully downloaded: C105341A.291\n",
      "    Successfully downloaded: C105912A.291\n",
      "    Successfully downloaded: C110443A.291\n",
      "    Successfully downloaded: C111014A.291\n",
      "    Successfully downloaded: C111545A.291\n",
      "    Successfully downloaded: C112116A.291\n",
      "    Successfully downloaded: C112647A.291\n",
      "    Successfully downloaded: C113218A.291\n",
      "    Successfully downloaded: C113749A.291\n",
      "    Successfully downloaded: C114320A.291\n",
      "    Successfully downloaded: C114852A.291\n",
      "    Successfully downloaded: C115423A.291\n",
      "    Successfully downloaded: C115954A.291\n",
      "    Successfully downloaded: C120525A.291\n",
      "    Successfully downloaded: C021001A.292\n",
      "    Successfully downloaded: C021532A.292\n",
      "    Successfully downloaded: C022103A.292\n",
      "    Successfully downloaded: C022634A.292\n",
      "    Successfully downloaded: C023205A.292\n",
      "    Successfully downloaded: C023736A.292\n",
      "    Successfully downloaded: C024307A.292\n",
      "    Successfully downloaded: C024838A.292\n",
      "    Successfully downloaded: C025409A.292\n",
      "    Successfully downloaded: C025940A.292\n",
      "    Successfully downloaded: C030511A.292\n",
      "    Successfully downloaded: C031042A.292\n",
      "    Successfully downloaded: C031613A.292\n",
      "    Successfully downloaded: C032145A.292\n",
      "    Successfully downloaded: C032716A.292\n",
      "    Successfully downloaded: C033247A.292\n",
      "    Successfully downloaded: C033818A.292\n",
      "    Successfully downloaded: C034349A.292\n",
      "    Successfully downloaded: C034920A.292\n",
      "    Successfully downloaded: C035451A.292\n",
      "Downloader for AMIE is not yet implemented...\n",
      "    Downloading data for: SuperDARN\n",
      "    Downloading mapex and grdex files...\n",
      "    Downloading mapex and grdex files...\n",
      "Downloader for SuperMAG is not yet implemented...\n"
     ]
    }
   ],
   "source": [
    "fetcher.download()"
   ]
  },
  {
   "cell_type": "markdown",
   "metadata": {},
   "source": [
    "And now all of the all-sky imager data and SuperDARN convection map data for that date are available in the archive directory!\n",
    "\n",
    "You'll note that the manifest contained entries for AMIE and SuperMAG. In a later release, FetchData will support downloading data for these, but it is not able to just yet.\n",
    "\n",
    "Let's have a look at the data files we downloaded:"
   ]
  },
  {
   "cell_type": "code",
   "execution_count": 4,
   "metadata": {},
   "outputs": [
    {
     "data": {
      "text/plain": [
       "['CRFS', 'SuperDARN']"
      ]
     },
     "execution_count": 4,
     "metadata": {},
     "output_type": "execute_result"
    }
   ],
   "source": [
    "import os\n",
    "os.listdir('/path/to/archive')"
   ]
  },
  {
   "attachments": {},
   "cell_type": "markdown",
   "metadata": {},
   "source": [
    "And then listing the CRFS and SuperDARN directories:"
   ]
  },
  {
   "cell_type": "code",
   "execution_count": 5,
   "metadata": {},
   "outputs": [
    {
     "data": {
      "text/plain": [
       "[['C103136A.291',\n",
       "  'C055543A.291',\n",
       "  'C080808A.291',\n",
       "  'C042154A.291',\n",
       "  'C060645A.291',\n",
       "  'C062318A.291',\n",
       "  'C070156A.291',\n",
       "  'C022103A.292',\n",
       "  'C111545A.291',\n",
       "  'C114320A.291',\n",
       "  'C071258A.291',\n",
       "  'C025940A.292',\n",
       "  'C071829A.291',\n",
       "  'C105912A.291',\n",
       "  'C113218A.291',\n",
       "  'C093626A.291',\n",
       "  'C074033A.291',\n",
       "  'C063951A.291',\n",
       "  'C063420A.291',\n",
       "  'C032716A.292',\n",
       "  'C095259A.291',\n",
       "  'C031613A.292',\n",
       "  'C081911A.291',\n",
       "  'C023205A.292',\n",
       "  'C112647A.291',\n",
       "  'C104239A.291',\n",
       "  'C094728A.291',\n",
       "  'C030511A.292',\n",
       "  'C053909A.291',\n",
       "  'C080237A.291',\n",
       "  'C025409A.292',\n",
       "  'C085217A.291',\n",
       "  'C120525A.291',\n",
       "  'C021532A.292',\n",
       "  'C105341A.291',\n",
       "  'C100401A.291',\n",
       "  'C050603A.291',\n",
       "  'C031042A.292',\n",
       "  'C090850A.291',\n",
       "  'C072931A.291',\n",
       "  'C051705A.291',\n",
       "  'C084115A.291',\n",
       "  'C102605A.291',\n",
       "  'C044359A.291',\n",
       "  'C043256A.291',\n",
       "  'C091953A.291',\n",
       "  'C104810A.291',\n",
       "  'C053338A.291',\n",
       "  'C034349A.292',\n",
       "  'C055012A.291',\n",
       "  'C075706A.291',\n",
       "  'C034920A.292',\n",
       "  'C033818A.292',\n",
       "  'C024838A.292',\n",
       "  'C023736A.292',\n",
       "  'C041052A.291',\n",
       "  'C035451A.292',\n",
       "  'C052236A.291',\n",
       "  'C041623A.291',\n",
       "  'C021001A.292',\n",
       "  'C050032A.291',\n",
       "  'C061216A.291',\n",
       "  'C091421A.291',\n",
       "  'C100932A.291',\n",
       "  'C102034A.291',\n",
       "  'C081340A.291',\n",
       "  'C114852A.291',\n",
       "  'C054441A.291',\n",
       "  'C094157A.291',\n",
       "  'C070727A.291',\n",
       "  'C060114A.291',\n",
       "  'C085748A.291',\n",
       "  'C052807A.291',\n",
       "  'C033247A.292',\n",
       "  'C072400A.291',\n",
       "  'C064522A.291',\n",
       "  'C032145A.292',\n",
       "  'C045501A.291',\n",
       "  'C073502A.291',\n",
       "  'C101503A.291',\n",
       "  'C082442A.291',\n",
       "  'C093055A.291',\n",
       "  'C074604A.291',\n",
       "  'C083544A.291',\n",
       "  'C095830A.291',\n",
       "  'C042725A.291',\n",
       "  'C110443A.291',\n",
       "  'C024307A.292',\n",
       "  'C113749A.291',\n",
       "  'C083013A.291',\n",
       "  'C065053A.291',\n",
       "  'C111014A.291',\n",
       "  'C103708A.291',\n",
       "  'C092524A.291',\n",
       "  'C062849A.291',\n",
       "  'C022634A.292',\n",
       "  'C044930A.291',\n",
       "  'C115954A.291',\n",
       "  'C051134A.291',\n",
       "  'C065624A.291',\n",
       "  'C084646A.291',\n",
       "  'C075135A.291',\n",
       "  'C090319A.291',\n",
       "  'C035950A.291',\n",
       "  'C112116A.291',\n",
       "  'C043828A.291',\n",
       "  'C115423A.291',\n",
       "  'C061747A.291',\n",
       "  'C040521A.291'],\n",
       " ['20161016.north.mapex',\n",
       "  '20161016.south.grdex',\n",
       "  '20161016.north.grdex',\n",
       "  '20161016.south.mapex']]"
      ]
     },
     "execution_count": 5,
     "metadata": {},
     "output_type": "execute_result"
    }
   ],
   "source": [
    "[os.listdir('/path/to/archive/CRFS'),os.listdir('/path/to/archive/SuperDARN')]"
   ]
  },
  {
   "cell_type": "code",
   "execution_count": null,
   "metadata": {},
   "outputs": [],
   "source": []
  }
 ],
 "metadata": {
  "kernelspec": {
   "display_name": "Python 2",
   "language": "python",
   "name": "python2"
  },
  "language_info": {
   "codemirror_mode": {
    "name": "ipython",
    "version": 2
   },
   "file_extension": ".py",
   "mimetype": "text/x-python",
   "name": "python",
   "nbconvert_exporter": "python",
   "pygments_lexer": "ipython2",
   "version": "2.7.13"
  }
 },
 "nbformat": 4,
 "nbformat_minor": 2
}
